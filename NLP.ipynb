{
  "nbformat": 4,
  "nbformat_minor": 0,
  "metadata": {
    "colab": {
      "name": "NLP.ipynb",
      "provenance": [],
      "collapsed_sections": [],
      "authorship_tag": "ABX9TyMRfDBhtFUitNRwVy+XDGZo",
      "include_colab_link": true
    },
    "kernelspec": {
      "name": "python3",
      "display_name": "Python 3"
    },
    "language_info": {
      "name": "python"
    }
  },
  "cells": [
    {
      "cell_type": "markdown",
      "metadata": {
        "id": "view-in-github",
        "colab_type": "text"
      },
      "source": [
        "<a href=\"https://colab.research.google.com/github/diaa-shalaby/NLP-Sentiment-analysis-thedeep/blob/main/NLP.ipynb\" target=\"_parent\"><img src=\"https://colab.research.google.com/assets/colab-badge.svg\" alt=\"Open In Colab\"/></a>"
      ]
    },
    {
      "cell_type": "code",
      "execution_count": 1,
      "metadata": {
        "id": "WCBqPpU4nYwC"
      },
      "outputs": [],
      "source": [
        "from google.colab import files\n",
        "# files.upload()"
      ]
    },
    {
      "cell_type": "code",
      "source": [
        "!git clone https://github.com/diaa-shalaby/NLP-Sentiment-analysis-thedeep.git\n"
      ],
      "metadata": {
        "colab": {
          "base_uri": "https://localhost:8080/"
        },
        "id": "Dw4fkvPc_A_z",
        "outputId": "06ea48dc-6528-4592-90d7-12f6bf3187bb"
      },
      "execution_count": 112,
      "outputs": [
        {
          "output_type": "stream",
          "name": "stdout",
          "text": [
            "Cloning into 'NLP-Sentiment-analysis-thedeep'...\n",
            "remote: Enumerating objects: 3, done.\u001b[K\n",
            "remote: Counting objects: 100% (3/3), done.\u001b[K\n",
            "remote: Compressing objects: 100% (2/2), done.\u001b[K\n",
            "remote: Total 3 (delta 0), reused 0 (delta 0), pack-reused 0\u001b[K\n",
            "Unpacking objects: 100% (3/3), done.\n"
          ]
        }
      ]
    },
    {
      "cell_type": "code",
      "source": [
        "%cp NLP.ipynb /content/NLP-Sentiment-analysis-thedeep"
      ],
      "metadata": {
        "colab": {
          "base_uri": "https://localhost:8080/"
        },
        "id": "Qg3zELZM_ItL",
        "outputId": "8bca653f-b657-4210-a983-ab89c6d60ca5"
      },
      "execution_count": 113,
      "outputs": [
        {
          "output_type": "stream",
          "name": "stdout",
          "text": [
            "cp: cannot stat 'NLP.ipynb': No such file or directory\n"
          ]
        }
      ]
    },
    {
      "cell_type": "code",
      "source": [
        "import numpy as np\n",
        "from numba import njit\n",
        "import torch\n",
        "import torch.utils.data\n",
        "import torch.nn as nn\n",
        "import torch.optim as optim\n",
        "import torch.nn.functional as F\n",
        "import matplotlib.pyplot as plt\n",
        "import sys\n",
        "import timeit\n",
        "import re\n",
        "\n",
        "import pandas as pd\n",
        "import numpy as np\n",
        "import itertools\n",
        "import spacy\n",
        "import gensim\n",
        "import sklearn\n",
        "\n",
        "from gensim.corpora.dictionary import Dictionary\n",
        "from gensim.models import TfidfModel\n",
        "from gensim.models import LogEntropyModel\n",
        "from gensim.models import KeyedVectors\n",
        "from gensim.test.utils import datapath\n",
        "import gensim.downloader as api\n",
        "from gensim.models import Word2Vec\n",
        "\n",
        "from scipy import stats\n",
        "import random\n",
        "\n",
        "from sklearn.svm import SVC\n",
        "from sklearn.naive_bayes import GaussianNB\n",
        "from sklearn.dummy import DummyClassifier\n",
        "from sklearn.tree import DecisionTreeClassifier\n",
        "from sklearn.linear_model import LogisticRegression\n",
        "from sklearn.ensemble import VotingClassifier, RandomForestClassifier\n",
        "from sklearn.neighbors import KNeighborsClassifier\n",
        "from sklearn.manifold import TSNE\n",
        "from sklearn.model_selection import RepeatedStratifiedKFold\n",
        "from sklearn.model_selection import GridSearchCV, RandomizedSearchCV\n",
        "from tqdm import tqdm_notebook\n",
        "\n",
        "from argparse import Namespace\n",
        "import dill\n",
        "import os\n",
        "import torch\n",
        "from torch.utils.data import TensorDataset, DataLoader\n",
        "# from transformers import BertTokenizer, BertModel, BertConfig"
      ],
      "metadata": {
        "id": "_YdOFCUfngeY"
      },
      "execution_count": 23,
      "outputs": []
    },
    {
      "cell_type": "markdown",
      "source": [
        "Exploring dataset"
      ],
      "metadata": {
        "id": "uM-kLnt4pp08"
      }
    },
    {
      "cell_type": "code",
      "source": [
        "DATASET_SIZE = 'small' # or medium\n",
        "\n",
        "TRAIN_DATA_PATH = f\"thedeep.{DATASET_SIZE}.train.txt\"\n",
        "VALID_DATA_PATH = f\"thedeep.{DATASET_SIZE}.validation.txt\"\n",
        "TEST_DATA_PATH = f\"thedeep.{DATASET_SIZE}.test.txt\"\n",
        "LABEL_CAPTIONS_PATH = \"thedeep.labels.txt\"\n",
        "\n",
        "\n",
        "#Set Hyperparameter for Bag of Words \n",
        "MAX_NB_WORDS = 20_000\n",
        "\n",
        "nlp = spacy.load(\"en_core_web_sm\")"
      ],
      "metadata": {
        "id": "PxV8oPHgpa1B"
      },
      "execution_count": 25,
      "outputs": []
    },
    {
      "cell_type": "code",
      "source": [
        "def load_dataset(data_path):\n",
        "    df_data = pd.read_csv(data_path, sep=',', header = None, names=['sentence_id', 'text', 'label'])\n",
        "    return df_data"
      ],
      "metadata": {
        "id": "Xe3RqPu0pa7I"
      },
      "execution_count": 26,
      "outputs": []
    },
    {
      "cell_type": "code",
      "source": [
        "# Load the data into train, validation and test set\n",
        "df_train = load_dataset(TRAIN_DATA_PATH)\n",
        "df_test = load_dataset(TEST_DATA_PATH)\n",
        "df_valid = load_dataset(VALID_DATA_PATH)\n",
        "\n",
        "# Sample 10% for faster training on limited resources\n",
        "df_train = df_train.sample(frac=0.1)\n",
        "df_test = df_test.sample(frac=0.1)\n",
        "df_valid = df_valid.sample(frac=0.1)"
      ],
      "metadata": {
        "id": "K2nts3MPpa4A"
      },
      "execution_count": 34,
      "outputs": []
    },
    {
      "cell_type": "code",
      "source": [
        "# Print out shapes of the sets\n",
        "print(f'Train set shape: {df_train.shape}')\n",
        "print(f'Test set shape: {df_test.shape}')\n",
        "print(f'Validation set shape: {df_valid.shape}')\n",
        "\n",
        "df_train.head()"
      ],
      "metadata": {
        "colab": {
          "base_uri": "https://localhost:8080/",
          "height": 261
        },
        "id": "hqpNtUPqpa92",
        "outputId": "fdea3247-8050-43af-eec5-5639f163cf07"
      },
      "execution_count": 35,
      "outputs": [
        {
          "output_type": "stream",
          "name": "stdout",
          "text": [
            "Train set shape: (840, 3)\n",
            "Test set shape: (180, 3)\n",
            "Validation set shape: (180, 3)\n"
          ]
        },
        {
          "output_type": "execute_result",
          "data": {
            "text/html": [
              "\n",
              "  <div id=\"df-54d73614-2808-4178-8ba9-91c5ddf3b78a\">\n",
              "    <div class=\"colab-df-container\">\n",
              "      <div>\n",
              "<style scoped>\n",
              "    .dataframe tbody tr th:only-of-type {\n",
              "        vertical-align: middle;\n",
              "    }\n",
              "\n",
              "    .dataframe tbody tr th {\n",
              "        vertical-align: top;\n",
              "    }\n",
              "\n",
              "    .dataframe thead th {\n",
              "        text-align: right;\n",
              "    }\n",
              "</style>\n",
              "<table border=\"1\" class=\"dataframe\">\n",
              "  <thead>\n",
              "    <tr style=\"text-align: right;\">\n",
              "      <th></th>\n",
              "      <th>sentence_id</th>\n",
              "      <th>text</th>\n",
              "      <th>label</th>\n",
              "    </tr>\n",
              "  </thead>\n",
              "  <tbody>\n",
              "    <tr>\n",
              "      <th>1913</th>\n",
              "      <td>6664</td>\n",
              "      <td>The cyclone is being compared to the last hurr...</td>\n",
              "      <td>10</td>\n",
              "    </tr>\n",
              "    <tr>\n",
              "      <th>5017</th>\n",
              "      <td>7514</td>\n",
              "      <td>Palestinian President Mahmoud Abbas issued the...</td>\n",
              "      <td>9</td>\n",
              "    </tr>\n",
              "    <tr>\n",
              "      <th>2320</th>\n",
              "      <td>8366</td>\n",
              "      <td>About 2 million children in Yemen are currentl...</td>\n",
              "      <td>2</td>\n",
              "    </tr>\n",
              "    <tr>\n",
              "      <th>2868</th>\n",
              "      <td>10488</td>\n",
              "      <td>Since the declaration of the State of Emergenc...</td>\n",
              "      <td>8</td>\n",
              "    </tr>\n",
              "    <tr>\n",
              "      <th>2718</th>\n",
              "      <td>9040</td>\n",
              "      <td>Child protection and gender-based violence: A ...</td>\n",
              "      <td>9</td>\n",
              "    </tr>\n",
              "  </tbody>\n",
              "</table>\n",
              "</div>\n",
              "      <button class=\"colab-df-convert\" onclick=\"convertToInteractive('df-54d73614-2808-4178-8ba9-91c5ddf3b78a')\"\n",
              "              title=\"Convert this dataframe to an interactive table.\"\n",
              "              style=\"display:none;\">\n",
              "        \n",
              "  <svg xmlns=\"http://www.w3.org/2000/svg\" height=\"24px\"viewBox=\"0 0 24 24\"\n",
              "       width=\"24px\">\n",
              "    <path d=\"M0 0h24v24H0V0z\" fill=\"none\"/>\n",
              "    <path d=\"M18.56 5.44l.94 2.06.94-2.06 2.06-.94-2.06-.94-.94-2.06-.94 2.06-2.06.94zm-11 1L8.5 8.5l.94-2.06 2.06-.94-2.06-.94L8.5 2.5l-.94 2.06-2.06.94zm10 10l.94 2.06.94-2.06 2.06-.94-2.06-.94-.94-2.06-.94 2.06-2.06.94z\"/><path d=\"M17.41 7.96l-1.37-1.37c-.4-.4-.92-.59-1.43-.59-.52 0-1.04.2-1.43.59L10.3 9.45l-7.72 7.72c-.78.78-.78 2.05 0 2.83L4 21.41c.39.39.9.59 1.41.59.51 0 1.02-.2 1.41-.59l7.78-7.78 2.81-2.81c.8-.78.8-2.07 0-2.86zM5.41 20L4 18.59l7.72-7.72 1.47 1.35L5.41 20z\"/>\n",
              "  </svg>\n",
              "      </button>\n",
              "      \n",
              "  <style>\n",
              "    .colab-df-container {\n",
              "      display:flex;\n",
              "      flex-wrap:wrap;\n",
              "      gap: 12px;\n",
              "    }\n",
              "\n",
              "    .colab-df-convert {\n",
              "      background-color: #E8F0FE;\n",
              "      border: none;\n",
              "      border-radius: 50%;\n",
              "      cursor: pointer;\n",
              "      display: none;\n",
              "      fill: #1967D2;\n",
              "      height: 32px;\n",
              "      padding: 0 0 0 0;\n",
              "      width: 32px;\n",
              "    }\n",
              "\n",
              "    .colab-df-convert:hover {\n",
              "      background-color: #E2EBFA;\n",
              "      box-shadow: 0px 1px 2px rgba(60, 64, 67, 0.3), 0px 1px 3px 1px rgba(60, 64, 67, 0.15);\n",
              "      fill: #174EA6;\n",
              "    }\n",
              "\n",
              "    [theme=dark] .colab-df-convert {\n",
              "      background-color: #3B4455;\n",
              "      fill: #D2E3FC;\n",
              "    }\n",
              "\n",
              "    [theme=dark] .colab-df-convert:hover {\n",
              "      background-color: #434B5C;\n",
              "      box-shadow: 0px 1px 3px 1px rgba(0, 0, 0, 0.15);\n",
              "      filter: drop-shadow(0px 1px 2px rgba(0, 0, 0, 0.3));\n",
              "      fill: #FFFFFF;\n",
              "    }\n",
              "  </style>\n",
              "\n",
              "      <script>\n",
              "        const buttonEl =\n",
              "          document.querySelector('#df-54d73614-2808-4178-8ba9-91c5ddf3b78a button.colab-df-convert');\n",
              "        buttonEl.style.display =\n",
              "          google.colab.kernel.accessAllowed ? 'block' : 'none';\n",
              "\n",
              "        async function convertToInteractive(key) {\n",
              "          const element = document.querySelector('#df-54d73614-2808-4178-8ba9-91c5ddf3b78a');\n",
              "          const dataTable =\n",
              "            await google.colab.kernel.invokeFunction('convertToInteractive',\n",
              "                                                     [key], {});\n",
              "          if (!dataTable) return;\n",
              "\n",
              "          const docLinkHtml = 'Like what you see? Visit the ' +\n",
              "            '<a target=\"_blank\" href=https://colab.research.google.com/notebooks/data_table.ipynb>data table notebook</a>'\n",
              "            + ' to learn more about interactive tables.';\n",
              "          element.innerHTML = '';\n",
              "          dataTable['output_type'] = 'display_data';\n",
              "          await google.colab.output.renderOutput(dataTable, element);\n",
              "          const docLink = document.createElement('div');\n",
              "          docLink.innerHTML = docLinkHtml;\n",
              "          element.appendChild(docLink);\n",
              "        }\n",
              "      </script>\n",
              "    </div>\n",
              "  </div>\n",
              "  "
            ],
            "text/plain": [
              "      sentence_id                                               text  label\n",
              "1913         6664  The cyclone is being compared to the last hurr...     10\n",
              "5017         7514  Palestinian President Mahmoud Abbas issued the...      9\n",
              "2320         8366  About 2 million children in Yemen are currentl...      2\n",
              "2868        10488  Since the declaration of the State of Emergenc...      8\n",
              "2718         9040  Child protection and gender-based violence: A ...      9"
            ]
          },
          "metadata": {},
          "execution_count": 35
        }
      ]
    },
    {
      "cell_type": "code",
      "source": [
        "#Create the datasets with the labels\n",
        "\n",
        "labels_train = np.array(list(df_train['label'].values))\n",
        "labels_val = np.array(list(df_valid['label'].values))\n",
        "labels_test = np.array(list(df_test['label'].values))\n",
        "\n",
        "#Check the size of the datasets\n",
        "print(\"The label-dataset for training has\", len(labels_train),\"rows\")\n",
        "print(\"The label-dataset for validation has\", len(labels_val),\"rows\")\n",
        "print(\"The label-dataset for testing has\", len(labels_test),\"rows\")"
      ],
      "metadata": {
        "colab": {
          "base_uri": "https://localhost:8080/"
        },
        "id": "nKFKWwIqpbAz",
        "outputId": "168d8207-b834-47e7-ca3e-a439527efca7"
      },
      "execution_count": 36,
      "outputs": [
        {
          "output_type": "stream",
          "name": "stdout",
          "text": [
            "The label-dataset for training has 840 rows\n",
            "The label-dataset for validation has 180 rows\n",
            "The label-dataset for testing has 180 rows\n"
          ]
        }
      ]
    },
    {
      "cell_type": "code",
      "source": [
        "#Create a dictionary containing the labels and their captions\n",
        "def load_captions(path):\n",
        "    labelcaptions = {}\n",
        "    with open(path) as fr:\n",
        "        for l in fr:\n",
        "            vals = l.strip().split(',')\n",
        "            labelcaptions[vals[1]] = int(vals[0])\n",
        "            print(vals)\n",
        "    return labelcaptions\n",
        "\n",
        "print(\"Labels:\")\n",
        "labelcaptions = load_captions(LABEL_CAPTIONS_PATH)"
      ],
      "metadata": {
        "colab": {
          "base_uri": "https://localhost:8080/"
        },
        "id": "Y5CQD8DCpbDP",
        "outputId": "62cb444e-5f8a-4fb3-c3ff-51a6dda6c863"
      },
      "execution_count": 37,
      "outputs": [
        {
          "output_type": "stream",
          "name": "stdout",
          "text": [
            "Labels:\n",
            "['0', 'Agriculture']\n",
            "['1', 'Cross']\n",
            "['2', 'Education']\n",
            "['3', 'Food']\n",
            "['4', 'Health']\n",
            "['5', 'Livelihood']\n",
            "['6', 'Logistic']\n",
            "['7', 'NFI']\n",
            "['8', 'Nutrition']\n",
            "['9', 'Protection']\n",
            "['10', 'Shelter']\n",
            "['11', 'WASH']\n"
          ]
        }
      ]
    },
    {
      "cell_type": "markdown",
      "source": [
        "<a name=\"section-preprocessing\"></a><h2 style=\"color:rgb(0,120,170)\">Pre-processing & Feature Extraction</h2>"
      ],
      "metadata": {
        "id": "Jm3IeyS2uCf6"
      }
    },
    {
      "cell_type": "markdown",
      "source": [
        "Cleaning and preprocessing: the dataset contains punctuations, numbers, dates, case-sensitivity are some examples of the elements which can be potentially considered for cleaning/preprocessing. "
      ],
      "metadata": {
        "id": "7xbTU7WhuFK5"
      }
    },
    {
      "cell_type": "code",
      "source": [
        "def preprocess(docs):\n",
        "    tokens = nlp(docs)\n",
        "\n",
        "    lemma_list = []\n",
        "    for w_token in tokens:\n",
        "        lemma = re.sub('<[^>]*>', '', w_token.lemma_)\n",
        "        lemma = re.sub('[\\W]+', '', lemma.lower())\n",
        "        lemma = re.sub(\"\\d*|^\\d*\\s|\\s\\d*\\s|\\s\\d*$\", '', lemma)\n",
        "\n",
        "        if lemma != '':\n",
        "            lemma_list.append(lemma.lower())\n",
        "\n",
        "    return lemma_list\n",
        "\n",
        "df_train['text_preprocessed'] = [preprocess(data[1]) for data in np.array(df_train)]\n",
        "df_test['text_preprocessed'] = [preprocess(data[1]) for data in np.array(df_test)]\n",
        "df_valid['text_preprocessed'] = [preprocess(data[1]) for data in np.array(df_valid)]"
      ],
      "metadata": {
        "id": "XdcY1cxhpbGL"
      },
      "execution_count": 38,
      "outputs": []
    },
    {
      "cell_type": "code",
      "source": [
        "df_train[['text', 'text_preprocessed']].head()"
      ],
      "metadata": {
        "colab": {
          "base_uri": "https://localhost:8080/",
          "height": 268
        },
        "id": "aol3ZFWLpbJT",
        "outputId": "8887b987-9046-4fac-e9f1-a76c7e5157af"
      },
      "execution_count": 49,
      "outputs": [
        {
          "output_type": "execute_result",
          "data": {
            "text/html": [
              "\n",
              "  <div id=\"df-c0df94ad-9d22-41f4-ae1b-183d982ddf7c\">\n",
              "    <div class=\"colab-df-container\">\n",
              "      <div>\n",
              "<style scoped>\n",
              "    .dataframe tbody tr th:only-of-type {\n",
              "        vertical-align: middle;\n",
              "    }\n",
              "\n",
              "    .dataframe tbody tr th {\n",
              "        vertical-align: top;\n",
              "    }\n",
              "\n",
              "    .dataframe thead th {\n",
              "        text-align: right;\n",
              "    }\n",
              "</style>\n",
              "<table border=\"1\" class=\"dataframe\">\n",
              "  <thead>\n",
              "    <tr style=\"text-align: right;\">\n",
              "      <th></th>\n",
              "      <th>text</th>\n",
              "      <th>text_preprocessed</th>\n",
              "    </tr>\n",
              "  </thead>\n",
              "  <tbody>\n",
              "    <tr>\n",
              "      <th>1913</th>\n",
              "      <td>The cyclone is being compared to the last hurr...</td>\n",
              "      <td>[the, cyclone, be, be, compare, to, the, last,...</td>\n",
              "    </tr>\n",
              "    <tr>\n",
              "      <th>5017</th>\n",
              "      <td>Palestinian President Mahmoud Abbas issued the...</td>\n",
              "      <td>[palestinian, president, mahmoud, abbas, issue...</td>\n",
              "    </tr>\n",
              "    <tr>\n",
              "      <th>2320</th>\n",
              "      <td>About 2 million children in Yemen are currentl...</td>\n",
              "      <td>[about, million, child, in, yemen, be, current...</td>\n",
              "    </tr>\n",
              "    <tr>\n",
              "      <th>2868</th>\n",
              "      <td>Since the declaration of the State of Emergenc...</td>\n",
              "      <td>[since, the, declaration, of, the, state, of, ...</td>\n",
              "    </tr>\n",
              "    <tr>\n",
              "      <th>2718</th>\n",
              "      <td>Child protection and gender-based violence: A ...</td>\n",
              "      <td>[child, protection, and, gender, base, violenc...</td>\n",
              "    </tr>\n",
              "  </tbody>\n",
              "</table>\n",
              "</div>\n",
              "      <button class=\"colab-df-convert\" onclick=\"convertToInteractive('df-c0df94ad-9d22-41f4-ae1b-183d982ddf7c')\"\n",
              "              title=\"Convert this dataframe to an interactive table.\"\n",
              "              style=\"display:none;\">\n",
              "        \n",
              "  <svg xmlns=\"http://www.w3.org/2000/svg\" height=\"24px\"viewBox=\"0 0 24 24\"\n",
              "       width=\"24px\">\n",
              "    <path d=\"M0 0h24v24H0V0z\" fill=\"none\"/>\n",
              "    <path d=\"M18.56 5.44l.94 2.06.94-2.06 2.06-.94-2.06-.94-.94-2.06-.94 2.06-2.06.94zm-11 1L8.5 8.5l.94-2.06 2.06-.94-2.06-.94L8.5 2.5l-.94 2.06-2.06.94zm10 10l.94 2.06.94-2.06 2.06-.94-2.06-.94-.94-2.06-.94 2.06-2.06.94z\"/><path d=\"M17.41 7.96l-1.37-1.37c-.4-.4-.92-.59-1.43-.59-.52 0-1.04.2-1.43.59L10.3 9.45l-7.72 7.72c-.78.78-.78 2.05 0 2.83L4 21.41c.39.39.9.59 1.41.59.51 0 1.02-.2 1.41-.59l7.78-7.78 2.81-2.81c.8-.78.8-2.07 0-2.86zM5.41 20L4 18.59l7.72-7.72 1.47 1.35L5.41 20z\"/>\n",
              "  </svg>\n",
              "      </button>\n",
              "      \n",
              "  <style>\n",
              "    .colab-df-container {\n",
              "      display:flex;\n",
              "      flex-wrap:wrap;\n",
              "      gap: 12px;\n",
              "    }\n",
              "\n",
              "    .colab-df-convert {\n",
              "      background-color: #E8F0FE;\n",
              "      border: none;\n",
              "      border-radius: 50%;\n",
              "      cursor: pointer;\n",
              "      display: none;\n",
              "      fill: #1967D2;\n",
              "      height: 32px;\n",
              "      padding: 0 0 0 0;\n",
              "      width: 32px;\n",
              "    }\n",
              "\n",
              "    .colab-df-convert:hover {\n",
              "      background-color: #E2EBFA;\n",
              "      box-shadow: 0px 1px 2px rgba(60, 64, 67, 0.3), 0px 1px 3px 1px rgba(60, 64, 67, 0.15);\n",
              "      fill: #174EA6;\n",
              "    }\n",
              "\n",
              "    [theme=dark] .colab-df-convert {\n",
              "      background-color: #3B4455;\n",
              "      fill: #D2E3FC;\n",
              "    }\n",
              "\n",
              "    [theme=dark] .colab-df-convert:hover {\n",
              "      background-color: #434B5C;\n",
              "      box-shadow: 0px 1px 3px 1px rgba(0, 0, 0, 0.15);\n",
              "      filter: drop-shadow(0px 1px 2px rgba(0, 0, 0, 0.3));\n",
              "      fill: #FFFFFF;\n",
              "    }\n",
              "  </style>\n",
              "\n",
              "      <script>\n",
              "        const buttonEl =\n",
              "          document.querySelector('#df-c0df94ad-9d22-41f4-ae1b-183d982ddf7c button.colab-df-convert');\n",
              "        buttonEl.style.display =\n",
              "          google.colab.kernel.accessAllowed ? 'block' : 'none';\n",
              "\n",
              "        async function convertToInteractive(key) {\n",
              "          const element = document.querySelector('#df-c0df94ad-9d22-41f4-ae1b-183d982ddf7c');\n",
              "          const dataTable =\n",
              "            await google.colab.kernel.invokeFunction('convertToInteractive',\n",
              "                                                     [key], {});\n",
              "          if (!dataTable) return;\n",
              "\n",
              "          const docLinkHtml = 'Like what you see? Visit the ' +\n",
              "            '<a target=\"_blank\" href=https://colab.research.google.com/notebooks/data_table.ipynb>data table notebook</a>'\n",
              "            + ' to learn more about interactive tables.';\n",
              "          element.innerHTML = '';\n",
              "          dataTable['output_type'] = 'display_data';\n",
              "          await google.colab.output.renderOutput(dataTable, element);\n",
              "          const docLink = document.createElement('div');\n",
              "          docLink.innerHTML = docLinkHtml;\n",
              "          element.appendChild(docLink);\n",
              "        }\n",
              "      </script>\n",
              "    </div>\n",
              "  </div>\n",
              "  "
            ],
            "text/plain": [
              "                                                   text                                  text_preprocessed\n",
              "1913  The cyclone is being compared to the last hurr...  [the, cyclone, be, be, compare, to, the, last,...\n",
              "5017  Palestinian President Mahmoud Abbas issued the...  [palestinian, president, mahmoud, abbas, issue...\n",
              "2320  About 2 million children in Yemen are currentl...  [about, million, child, in, yemen, be, current...\n",
              "2868  Since the declaration of the State of Emergenc...  [since, the, declaration, of, the, state, of, ...\n",
              "2718  Child protection and gender-based violence: A ...  [child, protection, and, gender, base, violenc..."
            ]
          },
          "metadata": {},
          "execution_count": 49
        }
      ]
    },
    {
      "cell_type": "code",
      "source": [
        "print(f'Original sentence: {np.array(df_train)[42][1]}\\n')\n",
        "\n",
        "print(f'After preprocessing: {np.array(df_train.text_preprocessed)[42]}')"
      ],
      "metadata": {
        "colab": {
          "base_uri": "https://localhost:8080/"
        },
        "id": "dqSUplt_pbO_",
        "outputId": "1b0893ab-15b2-461c-c078-e23ffcb5f29e"
      },
      "execution_count": 56,
      "outputs": [
        {
          "output_type": "stream",
          "name": "stdout",
          "text": [
            "Original sentence: Over thousands were killed due to heat strokes in June 2015. Though the government was planning to shower artificial rains – that too after the ‘specific’ clouds could make it to the sky – there was no natural or artificial raining and respite to the killing heat till filing this news report.\n",
            "\n",
            "Preprocessed text: ['over', 'thousand', 'be', 'kill', 'due', 'to', 'heat', 'stroke', 'in', 'june', 'though', 'the', 'government', 'be', 'plan', 'to', 'shower', 'artificial', 'rain', 'that', 'too', 'after', 'the', 'specific', 'cloud', 'could', 'make', 'pron', 'to', 'the', 'sky', 'there', 'be', 'no', 'natural', 'or', 'artificial', 'raining', 'and', 'respite', 'to', 'the', 'kill', 'heat', 'till', 'file', 'this', 'news', 'report']\n"
          ]
        }
      ]
    },
    {
      "cell_type": "code",
      "source": [
        "%timeit np.array([row for row in df_train.text_preprocessed])"
      ],
      "metadata": {
        "colab": {
          "base_uri": "https://localhost:8080/"
        },
        "id": "rjVyhA6FyA0Z",
        "outputId": "7093b166-9bf8-4306-dc32-f41226f00faa"
      },
      "execution_count": 65,
      "outputs": [
        {
          "output_type": "stream",
          "name": "stderr",
          "text": [
            "/usr/local/lib/python3.7/dist-packages/ipykernel_launcher.py:1: VisibleDeprecationWarning: Creating an ndarray from ragged nested sequences (which is a list-or-tuple of lists-or-tuples-or ndarrays with different lengths or shapes) is deprecated. If you meant to do this, you must specify 'dtype=object' when creating the ndarray.\n",
            "  \"\"\"Entry point for launching an IPython kernel.\n"
          ]
        },
        {
          "output_type": "stream",
          "name": "stdout",
          "text": [
            "The slowest run took 18.47 times longer than the fastest. This could mean that an intermediate result is being cached.\n",
            "1000 loops, best of 5: 357 µs per loop\n"
          ]
        }
      ]
    },
    {
      "cell_type": "code",
      "source": [
        "%timeit df_train.text_preprocessed.to_numpy()"
      ],
      "metadata": {
        "colab": {
          "base_uri": "https://localhost:8080/"
        },
        "id": "jJ6NoP82zEbG",
        "outputId": "e678e454-8c57-4e36-87b0-9d16c16b178f"
      },
      "execution_count": 66,
      "outputs": [
        {
          "output_type": "stream",
          "name": "stdout",
          "text": [
            "The slowest run took 20.98 times longer than the fastest. This could mean that an intermediate result is being cached.\n",
            "100000 loops, best of 5: 7.52 µs per loop\n"
          ]
        }
      ]
    },
    {
      "cell_type": "code",
      "source": [
        "df_train.label"
      ],
      "metadata": {
        "colab": {
          "base_uri": "https://localhost:8080/"
        },
        "id": "arGGuOrzzdVe",
        "outputId": "d4a7fb5a-6e52-43f2-c723-6dd41f6b43ac"
      },
      "execution_count": 72,
      "outputs": [
        {
          "output_type": "execute_result",
          "data": {
            "text/plain": [
              "1913    10\n",
              "5017     9\n",
              "2320     2\n",
              "2868     8\n",
              "2718     9\n",
              "        ..\n",
              "1004     9\n",
              "3682     7\n",
              "6149    10\n",
              "7640     3\n",
              "5910     4\n",
              "Name: label, Length: 840, dtype: int64"
            ]
          },
          "metadata": {},
          "execution_count": 72
        }
      ]
    },
    {
      "cell_type": "code",
      "source": [
        "%timeit df_train.label.to_numpy()"
      ],
      "metadata": {
        "colab": {
          "base_uri": "https://localhost:8080/"
        },
        "id": "gnkRsqlDzQnY",
        "outputId": "d935aed1-157d-48cb-a3b7-1f427fcdbc4a"
      },
      "execution_count": 75,
      "outputs": [
        {
          "output_type": "stream",
          "name": "stdout",
          "text": [
            "The slowest run took 17.05 times longer than the fastest. This could mean that an intermediate result is being cached.\n",
            "100000 loops, best of 5: 7.36 µs per loop\n"
          ]
        }
      ]
    },
    {
      "cell_type": "code",
      "source": [
        "%timeit np.array(list(df_train['label'].values))"
      ],
      "metadata": {
        "colab": {
          "base_uri": "https://localhost:8080/"
        },
        "id": "e1BmDtVZztGM",
        "outputId": "7934a1b1-0b5f-49bc-8aa8-509079df17e2"
      },
      "execution_count": 76,
      "outputs": [
        {
          "output_type": "stream",
          "name": "stdout",
          "text": [
            "10000 loops, best of 5: 69.7 µs per loop\n"
          ]
        }
      ]
    },
    {
      "cell_type": "code",
      "source": [
        "# From now on we'll only use the preprocessed text\n",
        "docs_train = df_train.text_preprocessed.to_numpy()\n",
        "docs_test = df_test.text_preprocessed.to_numpy()\n",
        "docs_valid = df_valid.text_preprocessed.to_numpy()\n",
        "\n",
        "labels_train = df_train.label.to_numpy()\n",
        "labels_test = df_test.label.to_numpy()\n",
        "labels_valid = df_valid.label.to_numpy()\n",
        "\n",
        "tokens_count = {}\n",
        "for doc in docs_train:\n",
        "    for token in doc:\n",
        "        if (token in tokens_count):\n",
        "            tokens_count[token] += 1\n",
        "        else:\n",
        "            tokens_count[token] = 1\n",
        "\n",
        "tokens_count = {k: v for k, v in sorted(tokens_count.items(), key=lambda item: item[1], reverse=True)}"
      ],
      "metadata": {
        "id": "HhCkYRJKxurh"
      },
      "execution_count": 77,
      "outputs": []
    },
    {
      "cell_type": "code",
      "source": [
        "# PLOT\n",
        "#\n",
        "# WordsCount vs Number of words\n",
        "#\n",
        "# and print the Top-5-stopwords and how often they occur\n",
        "\n",
        "plt.figure(figsize=(10,6))\n",
        "plt.plot(list(tokens_count.values()))\n",
        "#plt.axhline(y = 1500, color = 'r', linestyle = '-')\n",
        "\n",
        "plt.xlabel('Words ID')\n",
        "plt.ylabel('Words Count')\n",
        "plt.show()\n",
        "\n",
        "plt.figure(figsize=(10,6))\n",
        "plt.plot(list(tokens_count.values()))\n",
        "plt.xscale('log')\n",
        "plt.yscale('log')\n",
        "plt.xlabel('Words ID - Log Scale')\n",
        "plt.ylabel('Words Count - Log Scale')\n",
        "plt.show()\n",
        "\n",
        "print(\"Different Words with (spacy) Stopwords:\", len(tokens_count))\n",
        "print(\"Top 10 Words with (spacy) Stopwords:\", list(tokens_count.keys())[0:10])\n",
        "print(\"Top 10 occurrences with (spacy) Stopwords:\", list(tokens_count.values())[0:10])"
      ],
      "metadata": {
        "colab": {
          "base_uri": "https://localhost:8080/",
          "height": 838
        },
        "id": "hHVwv1WppbUd",
        "outputId": "530045ef-be11-4593-8e40-53c89207e2cc"
      },
      "execution_count": 78,
      "outputs": [
        {
          "output_type": "display_data",
          "data": {
            "image/png": "[encoded data removed]",
            "text/plain": [
              "<Figure size 720x432 with 1 Axes>"
            ]
          },
          "metadata": {
            "needs_background": "light"
          }
        },
        {
          "output_type": "display_data",
          "data": {
            "image/png": "[encoded data removed]",
            "text/plain": [
              "<Figure size 720x432 with 1 Axes>"
            ]
          },
          "metadata": {
            "needs_background": "light"
          }
        },
        {
          "output_type": "stream",
          "name": "stdout",
          "text": [
            "Different Words with (spacy) Stopwords: 5981\n",
            "Top 10 Words with (spacy) Stopwords: ['the', 'of', 'and', 'be', 'in', 'to', 'have', 'pron', 'a', 'for']\n",
            "Top 10 occurrences with (spacy) Stopwords: [3599, 2575, 2362, 2334, 2164, 1887, 892, 763, 744, 490]\n"
          ]
        }
      ]
    },
    {
      "cell_type": "markdown",
      "source": [
        "**Create a dictionary of vocabulary:** Next, reduce the size of dictionary by considering a cut-off threshold on the tokens with low frequencies. When removing tokens from the dictionary, consider a strategy for handling Out-Of-Vocabulary (OOV) tokens, namely the ones in the train/validation/test datasets that that are not anymore in the dictionary. Some possible strategies could be to remove OOVs completely from the texts, or to replace them with a special token like <OOV\\>. Explain your approaches and report the statistics of the dictionary before and after the reduction."
      ],
      "metadata": {
        "id": "RKR_PToD25JB"
      }
    },
    {
      "cell_type": "markdown",
      "source": [
        "Exclude extremely frequent as well as extremely unfrequent *words* in the dictionary *italicized text*"
      ],
      "metadata": {
        "id": "uJpZ10lG0lhC"
      }
    },
    {
      "cell_type": "code",
      "source": [
        "dic = Dictionary(docs_train)\n",
        "dic.filter_extremes(no_below=1, no_above=0.5, keep_n=20000)\n",
        "dic.compactify()\n",
        "print(\"Total %s unique tokens.\" % len(dic), '\\n')\n",
        "\n",
        "print('First 5 words: \\n')\n",
        "for _ in range(5):\n",
        "  print(dic[_])"
      ],
      "metadata": {
        "colab": {
          "base_uri": "https://localhost:8080/"
        },
        "id": "ABqjzINzxhQA",
        "outputId": "6d7cb28f-d4d9-4244-bf0c-e1b5e8242e8e"
      },
      "execution_count": 87,
      "outputs": [
        {
          "output_type": "stream",
          "name": "stdout",
          "text": [
            "Total 5973 unique tokens. \n",
            "\n",
            "First 5 words: \n",
            "\n",
            "affect\n",
            "alaotra\n",
            "along\n",
            "also\n",
            "analamanga\n"
          ]
        }
      ]
    },
    {
      "cell_type": "code",
      "source": [
        "docs_train[0][:10]"
      ],
      "metadata": {
        "colab": {
          "base_uri": "https://localhost:8080/"
        },
        "id": "FiTUR4YC2QZC",
        "outputId": "ff3ef1c5-e22e-4a94-a54d-0ffdeefe5520"
      },
      "execution_count": 95,
      "outputs": [
        {
          "output_type": "execute_result",
          "data": {
            "text/plain": [
              "['the',\n",
              " 'cyclone',\n",
              " 'be',\n",
              " 'be',\n",
              " 'compare',\n",
              " 'to',\n",
              " 'the',\n",
              " 'last',\n",
              " 'hurricanestrength',\n",
              " 'tropical']"
            ]
          },
          "metadata": {},
          "execution_count": 95
        }
      ]
    },
    {
      "cell_type": "code",
      "source": [
        "dic.doc2bow(docs_train[0][:10])"
      ],
      "metadata": {
        "colab": {
          "base_uri": "https://localhost:8080/"
        },
        "id": "6rboXDVk2Jcz",
        "outputId": "bea08ca8-d1ab-4351-a4fa-eefa6b7487a8"
      },
      "execution_count": 96,
      "outputs": [
        {
          "output_type": "execute_result",
          "data": {
            "text/plain": [
              "[(14, 1), (16, 1), (31, 1), (34, 1), (67, 1)]"
            ]
          },
          "metadata": {},
          "execution_count": 96
        }
      ]
    },
    {
      "cell_type": "code",
      "source": [
        "docs_train_bow = [dic.doc2bow(_doc) for _doc in docs_train] \n",
        "docs_val_bow = [dic.doc2bow(_doc) for _doc in docs_valid] \n",
        "docs_test_bow = [dic.doc2bow(_doc) for _doc in docs_test] "
      ],
      "metadata": {
        "id": "MrnI4_5J0hug"
      },
      "execution_count": 89,
      "outputs": []
    },
    {
      "cell_type": "markdown",
      "source": [
        "## Creating sentence vectors"
      ],
      "metadata": {
        "id": "CQ1h2Tsg5K3r"
      }
    },
    {
      "cell_type": "markdown",
      "source": [
        "Using weight-model: tf-idf using ***gensim*** models"
      ],
      "metadata": {
        "id": "Kojjre3t5rOv"
      }
    },
    {
      "cell_type": "code",
      "source": [
        "weight_model = TfidfModel(docs_train_bow)\n",
        "\n",
        "docs_train_tfidf=[]\n",
        "for _bow in docs_train_bow:\n",
        "    docs_train_tfidf.append(weight_model[_bow])\n",
        "    \n",
        "docs_val_tfidf=[]\n",
        "for _bow in docs_val_bow:\n",
        "    docs_val_tfidf.append(weight_model[_bow])\n",
        "\n",
        "docs_test_tfidf=[]\n",
        "for _bow in docs_test_bow:\n",
        "    docs_test_tfidf.append(weight_model[_bow])\n",
        "    "
      ],
      "metadata": {
        "id": "qeGMboPJ1bRW"
      },
      "execution_count": 97,
      "outputs": []
    },
    {
      "cell_type": "code",
      "source": [
        "docs_train_tfidf[42][:10]"
      ],
      "metadata": {
        "colab": {
          "base_uri": "https://localhost:8080/"
        },
        "id": "CaS3VcO55MPU",
        "outputId": "e87e0ff7-2873-49c6-e1fa-85af4f6f20ac"
      },
      "execution_count": 98,
      "outputs": [
        {
          "output_type": "execute_result",
          "data": {
            "text/plain": [
              "[(15, 0.12713695105138673),\n",
              " (37, 0.10569290966728735),\n",
              " (61, 0.039870338370585644),\n",
              " (63, 0.059645726257885924),\n",
              " (74, 0.08745213718766404),\n",
              " (117, 0.06339175541512),\n",
              " (124, 0.031248800681375113),\n",
              " (216, 0.1207261782768153),\n",
              " (317, 0.07208975308532507),\n",
              " (336, 0.06585809755885022)]"
            ]
          },
          "metadata": {},
          "execution_count": 98
        }
      ]
    },
    {
      "cell_type": "code",
      "source": [
        "docs_train_tfidf_sparse = np.zeros((len(docs_train_tfidf), len(dic)))\n",
        "for doc_i, doc in enumerate(docs_train_tfidf):\n",
        "    for item in doc:\n",
        "        docs_train_tfidf_sparse[doc_i][item[0]] = item[1]\n",
        "        \n",
        "docs_val_tfidf_sparse = np.zeros((len(docs_val_tfidf), len(dic)))\n",
        "for doc_i, doc in enumerate(docs_val_tfidf):\n",
        "    for item in doc:\n",
        "        docs_val_tfidf_sparse[doc_i][item[0]] = item[1]\n",
        "        \n",
        "docs_test_tfidf_sparse = np.zeros((len(docs_test_tfidf), len(dic)))\n",
        "for doc_i, doc in enumerate(docs_test_tfidf):\n",
        "    for item in doc:\n",
        "        docs_test_tfidf_sparse[doc_i][item[0]] = item[1]\n"
      ],
      "metadata": {
        "id": "HwW-c3So5M6z"
      },
      "execution_count": 101,
      "outputs": []
    },
    {
      "cell_type": "code",
      "source": [
        "docs_train_tfidf_sparse.shape"
      ],
      "metadata": {
        "colab": {
          "base_uri": "https://localhost:8080/"
        },
        "id": "f_weg-0r5M9m",
        "outputId": "957002aa-7bf2-464b-c68b-cd77aef48d72"
      },
      "execution_count": 102,
      "outputs": [
        {
          "output_type": "execute_result",
          "data": {
            "text/plain": [
              "(840, 5973)"
            ]
          },
          "metadata": {},
          "execution_count": 102
        }
      ]
    },
    {
      "cell_type": "code",
      "source": [
        "# Calculate and report the sparsity rate of the vectors of train, \n",
        "# validation, and test sets, namely what percentages of the vectors in each set are filled with zeros.\n",
        "\n",
        "from numpy import count_nonzero\n",
        "\n",
        "print(\"The sparsity rate of the tf-idf-variation is:\\n\")\n",
        "sparsity = 1.0 - ( count_nonzero(docs_train_tfidf_sparse) / float(docs_train_tfidf_sparse.size) )\n",
        "percentage = \"{:.5%}\".format(sparsity)\n",
        "print(\"for the Training-Set:  \",percentage)\n",
        "sparsity = 1.0 - ( count_nonzero(docs_val_tfidf_sparse) / float(docs_val_tfidf_sparse.size) )\n",
        "percentage = \"{:.5%}\".format(sparsity)\n",
        "print(f\"for the Validation-Set:\",percentage)\n",
        "sparsity = 1.0 - ( count_nonzero(docs_test_tfidf_sparse) / float(docs_test_tfidf_sparse.size) )\n",
        "percentage = \"{:.5%}\".format(sparsity)\n",
        "print(\"for the Test-Set:      \",percentage)"
      ],
      "metadata": {
        "colab": {
          "base_uri": "https://localhost:8080/"
        },
        "id": "-bUyaI1x5NA8",
        "outputId": "0e9d9964-fa35-4fe9-9bf1-665b1904969b"
      },
      "execution_count": 103,
      "outputs": [
        {
          "output_type": "stream",
          "name": "stdout",
          "text": [
            "The sparsity rate of the tf-idf-variation is:\n",
            "\n",
            "for the Training-Set:   99.25602%\n",
            "for the Validation-Set: 99.36780%\n",
            "for the Test-Set:       99.31562%\n"
          ]
        }
      ]
    },
    {
      "cell_type": "markdown",
      "source": [
        "#### Apply SVD for dimensionality reduction to 300 dimensions"
      ],
      "metadata": {
        "id": "qb1A0DrX60Ad"
      }
    },
    {
      "cell_type": "code",
      "source": [
        "svd = sklearn.decomposition.TruncatedSVD(n_components=300)\n",
        "svd.fit(docs_train_tfidf_sparse)\n",
        "\n",
        "vecs_train = svd.transform(docs_train_tfidf_sparse)\n",
        "vecs_val = svd.transform(docs_val_tfidf_sparse)\n",
        "vecs_test = svd.transform(docs_test_tfidf_sparse)\n",
        "\n",
        "print(\"These are the dimensions after the SVD of the tf-idf variant:\")\n",
        "print (\"Training Set:   \", vecs_train.shape)\n",
        "print (\"Validation Set: \", vecs_val.shape)\n",
        "print (\"Test Set:       \", vecs_test.shape)"
      ],
      "metadata": {
        "colab": {
          "base_uri": "https://localhost:8080/"
        },
        "id": "fAFIa8p45NDm",
        "outputId": "c51b5f6f-19f5-4259-aace-1688566c123a"
      },
      "execution_count": 105,
      "outputs": [
        {
          "output_type": "stream",
          "name": "stdout",
          "text": [
            "These are the dimensions after the SVD of the tf-idf variant:\n",
            "Training Set:    (840, 300)\n",
            "Validation Set:  (180, 300)\n",
            "Test Set:        (180, 300)\n"
          ]
        }
      ]
    },
    {
      "cell_type": "markdown",
      "source": [
        "#### Apply TSNE for further dimensionality reduction to 2 dimensions for plotting."
      ],
      "metadata": {
        "id": "0ifsXXZ77Eu_"
      }
    },
    {
      "cell_type": "code",
      "source": [
        "tsne = sklearn.manifold.TSNE(n_components=2, learning_rate='auto', init='random')\n",
        "vecs_train_2dim = tsne.fit_transform(vecs_train)\n",
        "print(f'After tsne the shape is: {vecs_train_2dim.shape}')"
      ],
      "metadata": {
        "colab": {
          "base_uri": "https://localhost:8080/"
        },
        "id": "Oumc7fSj5NGN",
        "outputId": "fca7a326-a13b-49cf-de37-d58f83bc79d4"
      },
      "execution_count": 108,
      "outputs": [
        {
          "output_type": "stream",
          "name": "stdout",
          "text": [
            "After tsne the shape is: (840, 2)\n"
          ]
        }
      ]
    },
    {
      "cell_type": "code",
      "source": [
        "plt.figure(figsize=(8,6))\n",
        "plt.scatter(vecs_train_2dim[:, 0], vecs_train_2dim[:, 1], c=labels, cmap=plt.cm.get_cmap(\"jet\", np.max(labels)+1))\n",
        "plt.colorbar(ticks=range(14))\n",
        "plt.title(\"Train Data\")\n",
        "# plt.clim(-0.5, 9.5)\n",
        "plt.show()"
      ],
      "metadata": {
        "colab": {
          "base_uri": "https://localhost:8080/",
          "height": 390
        },
        "id": "mVGDfQ5O5NJN",
        "outputId": "3e5e4444-8fde-4f1e-bb97-416cd5a637e5"
      },
      "execution_count": 109,
      "outputs": [
        {
          "output_type": "display_data",
          "data": {
            "image/png": "[encoded data removed]",
            "text/plain": [
              "<Figure size 576x432 with 2 Axes>"
            ]
          },
          "metadata": {
            "needs_background": "light"
          }
        }
      ]
    },
    {
      "cell_type": "markdown",
      "source": [
        "# Training and Sentiment analysis"
      ],
      "metadata": {
        "id": "SQywudGo8Www"
      }
    },
    {
      "cell_type": "markdown",
      "source": [
        "#### Dummy baseline"
      ],
      "metadata": {
        "id": "-7Zih-AQ8iZz"
      }
    },
    {
      "cell_type": "code",
      "source": [
        "def dummy_classifier(train_set, labels, test_set):\n",
        "    clf = DummyClassifier(strategy='stratified')\n",
        "    clf.fit(train_set, labels)\n",
        "    dummy_preds = clf.predict(test_set)\n",
        "    return dummy_preds"
      ],
      "metadata": {
        "id": "Hsm2pm3N5NMa"
      },
      "execution_count": 111,
      "outputs": []
    },
    {
      "cell_type": "code",
      "source": [
        ""
      ],
      "metadata": {
        "id": "acFecbMV8T2O"
      },
      "execution_count": null,
      "outputs": []
    }
  ]
}